{
 "cells": [
  {
   "cell_type": "raw",
   "id": "348a1c44",
   "metadata": {},
   "source": [
    "Temas\n",
    "\n",
    "Colecciones de datos\n",
    "Estructuras Decisivas y Estructuras Repetitivas\n",
    "Funciones\n",
    "Clases y objetos\n",
    "Bucles y condiciones\n"
   ]
  },
  {
   "cell_type": "code",
   "execution_count": 1,
   "id": "d860230e",
   "metadata": {},
   "outputs": [],
   "source": [
    "# 2.1 Estructuras Decisivas (if, elif, else)"
   ]
  },
  {
   "cell_type": "code",
   "execution_count": 2,
   "id": "92698952",
   "metadata": {},
   "outputs": [],
   "source": [
    "# if\n",
    "# Problema: Dado el precio de 3 productos ingresados por el teclado, aplicar un descuento del 10% si la\n",
    "# venta es mayor o igual a 1000."
   ]
  },
  {
   "cell_type": "code",
   "execution_count": 4,
   "id": "d12b2bd2",
   "metadata": {},
   "outputs": [
    {
     "name": "stdout",
     "output_type": "stream",
     "text": [
      "Producto 1: 300\n",
      "Producto 2: 200\n",
      "Producto 3: 500\n",
      "El total a pagar es: 900.0\n"
     ]
    }
   ],
   "source": [
    "# Solución\n",
    "P1 = float(input(\"Producto 1: \"))\n",
    "P2 = float(input(\"Producto 2: \"))\n",
    "P3 = float(input(\"Producto 3: \"))\n",
    "total = P1 + P2 + P3\n",
    "if total>=1000:\n",
    "    total *= 0.9\n",
    "print(f\"El total a pagar es: {total}\")"
   ]
  },
  {
   "cell_type": "code",
   "execution_count": 5,
   "id": "f6f27a14",
   "metadata": {},
   "outputs": [],
   "source": [
    "# Problema 02\n",
    "# Dado el importe total de ventas realizadas por un trabajador (ingresado por teclado,\n",
    "# categorizar que tipo de empleado es, considerando la siguiente tabla:\n",
    "\n",
    "# Categoria: A -> [0, 1000]\n",
    "# Categoria: B -> <1000, 2000]\n",
    "# Categoria: C -> <2000, 5000]\n",
    "# Categoría: D -> <5000, Mas]\n",
    "\n",
    "# Tiempo asignado: 12 minutos"
   ]
  },
  {
   "cell_type": "code",
   "execution_count": 9,
   "id": "dd3218c5",
   "metadata": {},
   "outputs": [
    {
     "name": "stdout",
     "output_type": "stream",
     "text": [
      "Importe de ventas realizadas: 0\n",
      "Categoria A\n"
     ]
    }
   ],
   "source": [
    "# Solución\n",
    "ventas = float(input(\"Importe de ventas realizadas: \"))\n",
    "if ventas < 0:\n",
    "    print(\"Datos erroneos\")\n",
    "else:\n",
    "    if ventas<=1000:\n",
    "        print(\"Categoria A\")\n",
    "    else:\n",
    "        if ventas <=2000:\n",
    "            print(\"Categoria B\")\n",
    "        else:\n",
    "            if ventas <= 5000:\n",
    "                print(\"Categoria C\")\n",
    "            else:\n",
    "                print(\"Categoria D\")\n"
   ]
  },
  {
   "cell_type": "code",
   "execution_count": 8,
   "id": "bf5a66c7",
   "metadata": {},
   "outputs": [
    {
     "name": "stdout",
     "output_type": "stream",
     "text": [
      "Importe de ventas realizadas: 0\n",
      "Categoría A\n"
     ]
    }
   ],
   "source": [
    "#con elif\n",
    "ventas = float(input(\"Importe de ventas realizadas: \"))\n",
    "\n",
    "if ventas < 0:\n",
    "    print(\"Datos erróneos\")\n",
    "elif ventas <= 1000:\n",
    "    print(\"Categoría A\")\n",
    "elif ventas <= 2000:\n",
    "    print(\"Categoría B\")\n",
    "elif ventas <= 5000:\n",
    "    print(\"Categoría C\")\n",
    "else:\n",
    "    print(\"Categoría D\")"
   ]
  },
  {
   "cell_type": "code",
   "execution_count": 10,
   "id": "33e54b94",
   "metadata": {},
   "outputs": [],
   "source": [
    "# 2.2 Estructuras repetitivas"
   ]
  },
  {
   "cell_type": "code",
   "execution_count": 11,
   "id": "24b9ea3d",
   "metadata": {},
   "outputs": [],
   "source": [
    "# for"
   ]
  },
  {
   "cell_type": "code",
   "execution_count": 12,
   "id": "e3390c48",
   "metadata": {},
   "outputs": [],
   "source": [
    "# Problema 01:\n",
    "# Mostrar los elementos de una lista utilizando for"
   ]
  },
  {
   "cell_type": "code",
   "execution_count": 13,
   "id": "08467e1c",
   "metadata": {},
   "outputs": [
    {
     "name": "stdout",
     "output_type": "stream",
     "text": [
      "Barrios\n",
      "Peña\n",
      "Torres\n",
      "Herrera\n"
     ]
    }
   ],
   "source": [
    "# Solución\n",
    "aula = ['Barrios','Peña','Torres','Herrera']\n",
    "\n",
    "# Por cada alumno que está en la lista, imprimir alumno\n",
    "for alumno in aula:\n",
    "    print(alumno)"
   ]
  },
  {
   "cell_type": "code",
   "execution_count": 14,
   "id": "d176333d",
   "metadata": {},
   "outputs": [],
   "source": [
    "# Problema 02:\n",
    "# Dado una cadena ingresado por teclado, mostrar cada caracter de la cadena, utilizando la estructura for"
   ]
  },
  {
   "cell_type": "code",
   "execution_count": 15,
   "id": "95717379",
   "metadata": {},
   "outputs": [
    {
     "name": "stdout",
     "output_type": "stream",
     "text": [
      "Ingrese Cadena:La vida es una sola\n",
      "L\n",
      "a\n",
      " \n",
      "v\n",
      "i\n",
      "d\n",
      "a\n",
      " \n",
      "e\n",
      "s\n",
      " \n",
      "u\n",
      "n\n",
      "a\n",
      " \n",
      "s\n",
      "o\n",
      "l\n",
      "a\n"
     ]
    }
   ],
   "source": [
    "# Solución\n",
    "cadena = input(\"Ingrese Cadena:\")\n",
    "for caracter in cadena:\n",
    "    print(caracter)"
   ]
  },
  {
   "cell_type": "code",
   "execution_count": 16,
   "id": "735a3260",
   "metadata": {},
   "outputs": [
    {
     "data": {
      "text/plain": [
       "range(0, 5)"
      ]
     },
     "execution_count": 16,
     "metadata": {},
     "output_type": "execute_result"
    }
   ],
   "source": [
    "# Para generar rangos de números utilizamos range()\n",
    "range(5)\n",
    "# [0, 5>"
   ]
  },
  {
   "cell_type": "code",
   "execution_count": 17,
   "id": "fc5fe255",
   "metadata": {},
   "outputs": [
    {
     "name": "stdout",
     "output_type": "stream",
     "text": [
      "0\n",
      "1\n",
      "2\n",
      "3\n",
      "4\n",
      "5\n",
      "6\n",
      "7\n",
      "8\n",
      "9\n",
      "10\n"
     ]
    }
   ],
   "source": [
    "# Problema 02\n",
    "# Imprimir los números de 0 a 10, utilizando for\n",
    "for numero in range(11):\n",
    "    print (numero)"
   ]
  },
  {
   "cell_type": "code",
   "execution_count": 18,
   "id": "2ce66496",
   "metadata": {},
   "outputs": [
    {
     "name": "stdout",
     "output_type": "stream",
     "text": [
      "5\n",
      "6\n",
      "7\n",
      "8\n",
      "9\n",
      "10\n"
     ]
    }
   ],
   "source": [
    "# Problema 03\n",
    "# Imprimir los números de 5 a 10, utilizando for\n",
    "for numero in range(5,11):\n",
    "    print (numero)"
   ]
  },
  {
   "cell_type": "code",
   "execution_count": 22,
   "id": "ed6ecc67",
   "metadata": {},
   "outputs": [
    {
     "name": "stdout",
     "output_type": "stream",
     "text": [
      "10\n",
      "12\n",
      "14\n",
      "16\n"
     ]
    }
   ],
   "source": [
    "# Problema 02\n",
    "# Imprimir los números de 10 a 20 de 2 en dos, utilizando for\n",
    "for numero in range(10, 18, 2):\n",
    "    print (numero)"
   ]
  },
  {
   "cell_type": "code",
   "execution_count": 23,
   "id": "3d6fa9a9",
   "metadata": {},
   "outputs": [],
   "source": [
    "#bucles"
   ]
  },
  {
   "cell_type": "code",
   "execution_count": 24,
   "id": "62e68dd3",
   "metadata": {},
   "outputs": [],
   "source": [
    "# while\n",
    "# Permite ejecutar un conjunto de acciones mientras se cumpla una condición"
   ]
  },
  {
   "cell_type": "code",
   "execution_count": 25,
   "id": "4fb14b8a",
   "metadata": {},
   "outputs": [
    {
     "name": "stdout",
     "output_type": "stream",
     "text": [
      "1\n",
      "2\n",
      "3\n",
      "4\n",
      "5\n",
      "6\n",
      "7\n",
      "8\n",
      "9\n",
      "10\n"
     ]
    }
   ],
   "source": [
    "# Ejemplo:\n",
    "numero = 1\n",
    "fin = 10\n",
    "while numero <= fin:\n",
    "    print(numero)\n",
    "    numero+=1"
   ]
  },
  {
   "cell_type": "code",
   "execution_count": null,
   "id": "835d61b3",
   "metadata": {},
   "outputs": [],
   "source": []
  }
 ],
 "metadata": {
  "kernelspec": {
   "display_name": "Python 3 (ipykernel)",
   "language": "python",
   "name": "python3"
  },
  "language_info": {
   "codemirror_mode": {
    "name": "ipython",
    "version": 3
   },
   "file_extension": ".py",
   "mimetype": "text/x-python",
   "name": "python",
   "nbconvert_exporter": "python",
   "pygments_lexer": "ipython3",
   "version": "3.9.12"
  }
 },
 "nbformat": 4,
 "nbformat_minor": 5
}
