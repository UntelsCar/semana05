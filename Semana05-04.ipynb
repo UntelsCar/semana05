{
 "cells": [
  {
   "cell_type": "raw",
   "id": "feb93452",
   "metadata": {},
   "source": [
    "Temas\n",
    "\n",
    "Colecciones de datos\n",
    "Estructuras Decisivas y Estructuras Repetitivas\n",
    "Funciones\n",
    "Clases y Objetos\n"
   ]
  },
  {
   "cell_type": "code",
   "execution_count": 1,
   "id": "243dd10f",
   "metadata": {},
   "outputs": [],
   "source": [
    "#Clases y Objetos"
   ]
  },
  {
   "cell_type": "code",
   "execution_count": 2,
   "id": "b3e8ead0",
   "metadata": {},
   "outputs": [],
   "source": [
    "# Problema 01\n",
    "\n",
    "# Crear la siguiente clase:\n",
    "#   - Clase: Persona\n",
    "#   - Atributos: nombre, apellido, fecha_nacimiento, dni"
   ]
  },
  {
   "cell_type": "code",
   "execution_count": 3,
   "id": "93f034a0",
   "metadata": {},
   "outputs": [],
   "source": [
    "class Persona:\n",
    "    nombre = \"\"\n",
    "    apellidos = \"\"\n",
    "    dni = \"\"\n",
    "    talla = 0"
   ]
  },
  {
   "cell_type": "code",
   "execution_count": 4,
   "id": "2a585ce2",
   "metadata": {},
   "outputs": [],
   "source": [
    "# Creamos un objeto persona1 de la clase Persona()\n",
    "\n",
    "#Creación del objeto persona1\n",
    "persona1 = Persona()"
   ]
  },
  {
   "cell_type": "code",
   "execution_count": 5,
   "id": "b6281e6c",
   "metadata": {},
   "outputs": [],
   "source": [
    "# Asignamos valores al objeto\n",
    "persona1.nombre = \"Carlos Joel\"\n",
    "persona1.apellidos = \"Peña Chirinos\"\n",
    "persona1.dni = \"12345678\"\n",
    "persona1.talla = 1.72"
   ]
  },
  {
   "cell_type": "code",
   "execution_count": 8,
   "id": "d4a890ae",
   "metadata": {},
   "outputs": [
    {
     "name": "stdout",
     "output_type": "stream",
     "text": [
      "persona1\n",
      "Nombre:Carlos Joel\n",
      "Apellido:Peña Chirinos\n",
      "DNI:12345678\n",
      "Talla:1.72\n"
     ]
    }
   ],
   "source": [
    "# Para mostrar valores del objeto:\n",
    "print(\"persona1\")\n",
    "print(f\"Nombre:{persona1.nombre}\")\n",
    "print(f\"Apellido:{persona1.apellidos}\")\n",
    "print(f\"DNI:{persona1.dni}\")\n",
    "print(f\"Talla:{persona1.talla}\")"
   ]
  },
  {
   "cell_type": "code",
   "execution_count": 9,
   "id": "ea4a7baf",
   "metadata": {},
   "outputs": [],
   "source": [
    "# Para utilizar constructores utilizamos: __init__\n",
    "# ¿Qué es un constructor?\n",
    "# - Es un método\n",
    "# - Sirve para inicializar valores a una clase"
   ]
  },
  {
   "cell_type": "code",
   "execution_count": 10,
   "id": "6c63a95b",
   "metadata": {},
   "outputs": [],
   "source": [
    "#Problema 02:"
   ]
  },
  {
   "cell_type": "code",
   "execution_count": 11,
   "id": "7a0c58d9",
   "metadata": {},
   "outputs": [],
   "source": [
    "# Crear la siguiente clase y utilizar constructores:\n",
    "#  - Clase: Curso\n",
    "#  - Atributos: Codigo, Nombre, horas, creditos,"
   ]
  },
  {
   "cell_type": "code",
   "execution_count": 12,
   "id": "622973f8",
   "metadata": {},
   "outputs": [],
   "source": [
    "class curso:\n",
    "    def __init__(self, codigo, nombre, horas, creditos):\n",
    "        self.codigo = codigo\n",
    "        self.nombre = nombre\n",
    "        self.horas = horas\n",
    "        self.creditos = creditos\n",
    "        \n",
    "    def mostrar_datos_curso(self):\n",
    "        print(f\"Curso: {self.nombre}\")\n",
    "        print(f\"Código: {self.codigo}\")\n",
    "        print(f\"Horas: {self.horas}\")\n",
    "        print(f\"Créditos: {self.creditos}\")"
   ]
  },
  {
   "cell_type": "code",
   "execution_count": 13,
   "id": "98ea43a3",
   "metadata": {},
   "outputs": [],
   "source": [
    "# Creamos el objeto curso1 y le mandamos parámetros\n",
    "curso1 = curso(\"C0501\",\"LP3\",6,3)"
   ]
  },
  {
   "cell_type": "code",
   "execution_count": 14,
   "id": "789eddb8",
   "metadata": {},
   "outputs": [
    {
     "name": "stdout",
     "output_type": "stream",
     "text": [
      "Curso: LP3\n",
      "Código: C0501\n",
      "Horas: 6\n",
      "Créditos: 3\n"
     ]
    }
   ],
   "source": [
    "# Mostramos los datos completos del curso, ejecutando el metodo mostrar_datos_curso()\n",
    "curso1.mostrar_datos_curso();"
   ]
  },
  {
   "cell_type": "code",
   "execution_count": 15,
   "id": "98e844e3",
   "metadata": {},
   "outputs": [],
   "source": [
    "curso2= curso(\"C0675\",\"LEG\",10,2)"
   ]
  },
  {
   "cell_type": "code",
   "execution_count": null,
   "id": "411a9be1",
   "metadata": {},
   "outputs": [],
   "source": []
  }
 ],
 "metadata": {
  "kernelspec": {
   "display_name": "Python 3 (ipykernel)",
   "language": "python",
   "name": "python3"
  },
  "language_info": {
   "codemirror_mode": {
    "name": "ipython",
    "version": 3
   },
   "file_extension": ".py",
   "mimetype": "text/x-python",
   "name": "python",
   "nbconvert_exporter": "python",
   "pygments_lexer": "ipython3",
   "version": "3.9.12"
  }
 },
 "nbformat": 4,
 "nbformat_minor": 5
}
